{
 "cells": [
  {
   "cell_type": "code",
   "execution_count": 1,
   "metadata": {},
   "outputs": [
    {
     "name": "stdout",
     "output_type": "stream",
     "text": [
      "[('virat kohli', 24936), ('jack kallis', 25534), ('ricky pointing', 27483), ('Sachin Tendulkar', 34357)]\n"
     ]
    }
   ],
   "source": [
    "#Create a python program to sort the given list of tuples based on integer value using a lambda function\n",
    "data = [('Sachin Tendulkar',34357),('ricky pointing',27483),('jack kallis',25534),('virat kohli',24936)]\n",
    "sorted_data = sorted(data,key=lambda x:x[1])\n",
    "print(sorted_data)"
   ]
  },
  {
   "cell_type": "code",
   "execution_count": 2,
   "metadata": {},
   "outputs": [
    {
     "name": "stdout",
     "output_type": "stream",
     "text": [
      "[1, 4, 9, 16, 25, 36, 49, 64, 81]\n"
     ]
    }
   ],
   "source": [
    "#Write a python program to find the square of all the numbers in the given list of integers using lambda and map function\n",
    "numbers = [1,2,3,4,5,6,7,8,9]\n",
    "squared_number = list(map(lambda x: x**2,numbers))\n",
    "print(squared_number)"
   ]
  },
  {
   "cell_type": "code",
   "execution_count": 3,
   "metadata": {},
   "outputs": [
    {
     "name": "stdout",
     "output_type": "stream",
     "text": [
      "['1', '2', '3', '4', '5', '6', '7', '8', '9', '10']\n"
     ]
    }
   ],
   "source": [
    "#write a python program to convert the given list of integers into a tuple of strings.Use Map and lambda functions.\n",
    "integers = [1,2,3,4,5,6,7,8,9,10]\n",
    "string_tuple = list(map(lambda x: str(x),integers))\n",
    "print(string_tuple)"
   ]
  },
  {
   "cell_type": "code",
   "execution_count": 4,
   "metadata": {},
   "outputs": [
    {
     "name": "stdout",
     "output_type": "stream",
     "text": [
      "15511210043330985984000000\n"
     ]
    }
   ],
   "source": [
    "#write a python program using reduce function to compute the products of a list containing numbers from 1 to 25.\n",
    "import functools\n",
    "numbers = list(range(1,26))\n",
    "def multiply(x,y):\n",
    "    return x*y\n",
    "product = functools.reduce(multiply,numbers)\n",
    "print(product)"
   ]
  },
  {
   "cell_type": "code",
   "execution_count": 5,
   "metadata": {},
   "outputs": [
    {
     "name": "stdout",
     "output_type": "stream",
     "text": [
      "[6, 60, 90, 120]\n"
     ]
    }
   ],
   "source": [
    "#write a python program to filter the numbers in a given list that are divisible by 2 and 3 using the filter function.\n",
    "numbers=[2,3,6,9,27,60,90,120,55,46]\n",
    "filter_function = list(filter(lambda x: x%2==0 and x%3==0,numbers))\n",
    "print(filter_function)"
   ]
  },
  {
   "cell_type": "code",
   "execution_count": 6,
   "metadata": {},
   "outputs": [
    {
     "name": "stdout",
     "output_type": "stream",
     "text": [
      "['php', 'aba', 'radar', 'level']\n"
     ]
    }
   ],
   "source": [
    "#write a python program to find palindromes in the given list of strings using lambda and filter function.\n",
    "words=['python','php','aba','radar','level']\n",
    "is_palindrome = lambda s:s== s[::-1]\n",
    "palindromes = list(filter(is_palindrome,words))\n",
    "print(palindromes)"
   ]
  }
 ],
 "metadata": {
  "kernelspec": {
   "display_name": "Python 3",
   "language": "python",
   "name": "python3"
  },
  "language_info": {
   "codemirror_mode": {
    "name": "ipython",
    "version": 3
   },
   "file_extension": ".py",
   "mimetype": "text/x-python",
   "name": "python",
   "nbconvert_exporter": "python",
   "pygments_lexer": "ipython3",
   "version": "3.10.5"
  },
  "orig_nbformat": 4
 },
 "nbformat": 4,
 "nbformat_minor": 2
}
